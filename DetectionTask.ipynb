{
 "cells": [
  {
   "attachments": {},
   "cell_type": "markdown",
   "id": "76312346-0a69-43c2-8d33-08e054946b03",
   "metadata": {},
   "source": [
    "# Truly suspicious events and false alarms detection\n",
    "### 25.06.2023"
   ]
  },
  {
   "attachments": {},
   "cell_type": "markdown",
   "id": "68d8cc66-c929-4676-9da7-f8ed570fc12c",
   "metadata": {
    "tags": []
   },
   "source": [
    "### Import libraries"
   ]
  },
  {
   "cell_type": "code",
   "execution_count": 51,
   "id": "6cf379d9-07e9-4f52-9f87-8e5f91e6eb2c",
   "metadata": {
    "tags": []
   },
   "outputs": [],
   "source": [
    "import pandas as pd\n",
    "import os, os.path\n",
    "import sqlite3\n",
    "from sklearn.ensemble import IsolationForest\n",
    "import py7zr"
   ]
  },
  {
   "attachments": {},
   "cell_type": "markdown",
   "id": "a6528855-775a-4ea7-be5d-e0648c1339ce",
   "metadata": {
    "tags": []
   },
   "source": [
    "### Train and test data extraction to given path PATH"
   ]
  },
  {
   "cell_type": "code",
   "execution_count": null,
   "id": "9e87e432-ba9c-4cb7-8372-92cf34618b39",
   "metadata": {
    "tags": []
   },
   "outputs": [],
   "source": [
    "with py7zr.SevenZipFile('cybersecurity_training.7z', mode='r') as z:\n",
    "    z.extractall(path='PATH') \n",
    "with py7zr.SevenZipFile('cybersecurity_test.7z', mode='r') as z:\n",
    "    z.extractall(path='PATH')"
   ]
  },
  {
   "attachments": {},
   "cell_type": "markdown",
   "id": "c069098c-4bed-487b-9451-7d30fc24a302",
   "metadata": {},
   "source": [
    "### Read data from given path PATH"
   ]
  },
  {
   "cell_type": "code",
   "execution_count": 7,
   "id": "53c3f51a-030b-4b04-83e8-3c1d9d0a9502",
   "metadata": {
    "tags": []
   },
   "outputs": [],
   "source": [
    "Data = pd.read_csv('PATH/cybersecurity_training.csv', delimiter='|')\n",
    "TestData = pd.read_csv('PATH/cybersecurity_test.csv', delimiter='|')"
   ]
  },
  {
   "attachments": {},
   "cell_type": "markdown",
   "id": "b24f187a-16ac-4e90-b84f-069014715fc9",
   "metadata": {},
   "source": [
    "### Checking how many alerts were considered truly suspicious in train data using sql langauge"
   ]
  },
  {
   "cell_type": "code",
   "execution_count": 50,
   "id": "3be7dce2-2a50-477a-8046-c5593ed0bc73",
   "metadata": {
    "tags": []
   },
   "outputs": [
    {
     "name": "stdout",
     "output_type": "stream",
     "text": [
      "0.057726938392472164\n"
     ]
    }
   ],
   "source": [
    "baza = os.path.join('przyklad.db')\n",
    "if os.path.isfile(baza):\n",
    "    os.remove(baza) \n",
    "conn = sqlite3.connect(baza) \n",
    "\n",
    "Data.to_sql(\"Data\", conn)\n",
    "Notified = pd.read_sql_query(\"\"\"\n",
    "SELECT COUNT(*) AS TotalNumber\n",
    "FROM Data\n",
    "GROUP BY notified\n",
    "\"\"\", conn)\n",
    "conn.close()\n",
    "\n",
    "res = Notified['TotalNumber'][1]/(Notified['TotalNumber'][1] + Notified['TotalNumber'][0])\n",
    "print(res)"
   ]
  },
  {
   "attachments": {},
   "cell_type": "markdown",
   "id": "cc12f438-be27-4ec8-8d89-a1780a41fc5f",
   "metadata": {},
   "source": [
    "### Selecting columns for algorithm"
   ]
  },
  {
   "cell_type": "code",
   "execution_count": 16,
   "id": "68c104cf-77cd-4ef1-bd4a-a324305e4a96",
   "metadata": {
    "tags": []
   },
   "outputs": [],
   "source": [
    "SelectedColumns = Data[['correlatedcount','srcip_cd','dstip_cd','srcport_cd','dstport_cd','alerttype_cd','direction_cd','eventname_cd','severity_cd','reportingdevice_cd','devicetype_cd','devicevendor_cd','domain_cd','protocol_cd','username_cd','srcipcategory_cd','dstipcategory_cd','isiptrusted','untrustscore','flowscore','trustscore','enforcementscore','srcportcategory_dominate','thrcnt_month','thrcnt_week','thrcnt_day','p6','p9','p5m','p5w','p5d','p8m','p8w','p8d']]"
   ]
  },
  {
   "attachments": {},
   "cell_type": "markdown",
   "id": "93e899e0-b0c8-4885-80a0-5f998997097f",
   "metadata": {},
   "source": [
    "### Model creating using IsolationForest for the problem"
   ]
  },
  {
   "cell_type": "code",
   "execution_count": 33,
   "id": "fb2ceedd-d907-41d0-8aa4-9d28ef8d530f",
   "metadata": {
    "tags": []
   },
   "outputs": [
    {
     "data": {
      "text/html": [
       "<style>#sk-container-id-3 {color: black;background-color: white;}#sk-container-id-3 pre{padding: 0;}#sk-container-id-3 div.sk-toggleable {background-color: white;}#sk-container-id-3 label.sk-toggleable__label {cursor: pointer;display: block;width: 100%;margin-bottom: 0;padding: 0.3em;box-sizing: border-box;text-align: center;}#sk-container-id-3 label.sk-toggleable__label-arrow:before {content: \"▸\";float: left;margin-right: 0.25em;color: #696969;}#sk-container-id-3 label.sk-toggleable__label-arrow:hover:before {color: black;}#sk-container-id-3 div.sk-estimator:hover label.sk-toggleable__label-arrow:before {color: black;}#sk-container-id-3 div.sk-toggleable__content {max-height: 0;max-width: 0;overflow: hidden;text-align: left;background-color: #f0f8ff;}#sk-container-id-3 div.sk-toggleable__content pre {margin: 0.2em;color: black;border-radius: 0.25em;background-color: #f0f8ff;}#sk-container-id-3 input.sk-toggleable__control:checked~div.sk-toggleable__content {max-height: 200px;max-width: 100%;overflow: auto;}#sk-container-id-3 input.sk-toggleable__control:checked~label.sk-toggleable__label-arrow:before {content: \"▾\";}#sk-container-id-3 div.sk-estimator input.sk-toggleable__control:checked~label.sk-toggleable__label {background-color: #d4ebff;}#sk-container-id-3 div.sk-label input.sk-toggleable__control:checked~label.sk-toggleable__label {background-color: #d4ebff;}#sk-container-id-3 input.sk-hidden--visually {border: 0;clip: rect(1px 1px 1px 1px);clip: rect(1px, 1px, 1px, 1px);height: 1px;margin: -1px;overflow: hidden;padding: 0;position: absolute;width: 1px;}#sk-container-id-3 div.sk-estimator {font-family: monospace;background-color: #f0f8ff;border: 1px dotted black;border-radius: 0.25em;box-sizing: border-box;margin-bottom: 0.5em;}#sk-container-id-3 div.sk-estimator:hover {background-color: #d4ebff;}#sk-container-id-3 div.sk-parallel-item::after {content: \"\";width: 100%;border-bottom: 1px solid gray;flex-grow: 1;}#sk-container-id-3 div.sk-label:hover label.sk-toggleable__label {background-color: #d4ebff;}#sk-container-id-3 div.sk-serial::before {content: \"\";position: absolute;border-left: 1px solid gray;box-sizing: border-box;top: 0;bottom: 0;left: 50%;z-index: 0;}#sk-container-id-3 div.sk-serial {display: flex;flex-direction: column;align-items: center;background-color: white;padding-right: 0.2em;padding-left: 0.2em;position: relative;}#sk-container-id-3 div.sk-item {position: relative;z-index: 1;}#sk-container-id-3 div.sk-parallel {display: flex;align-items: stretch;justify-content: center;background-color: white;position: relative;}#sk-container-id-3 div.sk-item::before, #sk-container-id-3 div.sk-parallel-item::before {content: \"\";position: absolute;border-left: 1px solid gray;box-sizing: border-box;top: 0;bottom: 0;left: 50%;z-index: -1;}#sk-container-id-3 div.sk-parallel-item {display: flex;flex-direction: column;z-index: 1;position: relative;background-color: white;}#sk-container-id-3 div.sk-parallel-item:first-child::after {align-self: flex-end;width: 50%;}#sk-container-id-3 div.sk-parallel-item:last-child::after {align-self: flex-start;width: 50%;}#sk-container-id-3 div.sk-parallel-item:only-child::after {width: 0;}#sk-container-id-3 div.sk-dashed-wrapped {border: 1px dashed gray;margin: 0 0.4em 0.5em 0.4em;box-sizing: border-box;padding-bottom: 0.4em;background-color: white;}#sk-container-id-3 div.sk-label label {font-family: monospace;font-weight: bold;display: inline-block;line-height: 1.2em;}#sk-container-id-3 div.sk-label-container {text-align: center;}#sk-container-id-3 div.sk-container {/* jupyter's `normalize.less` sets `[hidden] { display: none; }` but bootstrap.min.css set `[hidden] { display: none !important; }` so we also need the `!important` here to be able to override the default hidden behavior on the sphinx rendered scikit-learn.org. See: https://github.com/scikit-learn/scikit-learn/issues/21755 */display: inline-block !important;position: relative;}#sk-container-id-3 div.sk-text-repr-fallback {display: none;}</style><div id=\"sk-container-id-3\" class=\"sk-top-container\"><div class=\"sk-text-repr-fallback\"><pre>IsolationForest(contamination=0.05, n_estimators=50, random_state=42)</pre><b>In a Jupyter environment, please rerun this cell to show the HTML representation or trust the notebook. <br />On GitHub, the HTML representation is unable to render, please try loading this page with nbviewer.org.</b></div><div class=\"sk-container\" hidden><div class=\"sk-item\"><div class=\"sk-estimator sk-toggleable\"><input class=\"sk-toggleable__control sk-hidden--visually\" id=\"sk-estimator-id-3\" type=\"checkbox\" checked><label for=\"sk-estimator-id-3\" class=\"sk-toggleable__label sk-toggleable__label-arrow\">IsolationForest</label><div class=\"sk-toggleable__content\"><pre>IsolationForest(contamination=0.05, n_estimators=50, random_state=42)</pre></div></div></div></div></div>"
      ],
      "text/plain": [
       "IsolationForest(contamination=0.05, n_estimators=50, random_state=42)"
      ]
     },
     "execution_count": 33,
     "metadata": {},
     "output_type": "execute_result"
    }
   ],
   "source": [
    "model=IsolationForest(n_estimators=50, max_samples='auto', contamination=float(0.05),max_features=1.0, random_state=42)\n",
    "model.fit(SelectedColumns.values)"
   ]
  },
  {
   "attachments": {},
   "cell_type": "markdown",
   "id": "3c34faf4-9a69-4fcc-b03d-a13af9b55403",
   "metadata": {},
   "source": [
    "### Selecting columns for algorithm"
   ]
  },
  {
   "cell_type": "code",
   "execution_count": 39,
   "id": "237a2c05-9e30-4b4a-9eea-cd945acdd7ed",
   "metadata": {
    "tags": []
   },
   "outputs": [],
   "source": [
    "TestSelectedColumns = TestData[['correlatedcount','srcip_cd','dstip_cd','srcport_cd','dstport_cd','alerttype_cd','direction_cd','eventname_cd','severity_cd','reportingdevice_cd','devicetype_cd','devicevendor_cd','domain_cd','protocol_cd','username_cd','srcipcategory_cd','dstipcategory_cd','isiptrusted','untrustscore','flowscore','trustscore','enforcementscore','srcportcategory_dominate','thrcnt_month','thrcnt_week','thrcnt_day','p6','p9','p5m','p5w','p5d','p8m','p8w','p8d']]"
   ]
  },
  {
   "attachments": {},
   "cell_type": "markdown",
   "id": "1c9d08e4-7c9e-4592-8b13-ad6479f6cb9a",
   "metadata": {},
   "source": [
    "### Results for test data"
   ]
  },
  {
   "cell_type": "code",
   "execution_count": 55,
   "id": "e5bc31ba-bd93-41fa-a330-6bb0929a150a",
   "metadata": {
    "tags": []
   },
   "outputs": [],
   "source": [
    "Testresult = pd.DataFrame()\n",
    "Testresult['scores']=model.decision_function(TestSelectedColumns.values)\n",
    "Testresult['anomaly']=model.predict(TestSelectedColumns.values)"
   ]
  },
  {
   "attachments": {},
   "cell_type": "markdown",
   "id": "281ec2ab-48a8-4d17-af93-be1bb1cb03c2",
   "metadata": {},
   "source": [
    "### Saving the score column to a text file"
   ]
  },
  {
   "cell_type": "code",
   "execution_count": 41,
   "id": "6a7d1b21-d2b8-44d5-9c77-63125b9dbf83",
   "metadata": {
    "tags": []
   },
   "outputs": [],
   "source": [
    "Columndata = Testresult['scores']\n",
    "with open('results.txt', 'w') as file:\n",
    "    for item in Columndata:\n",
    "        file.write(str(item) + '\\n')"
   ]
  }
 ],
 "metadata": {
  "kernelspec": {
   "display_name": "Python 3 (ipykernel)",
   "language": "python",
   "name": "python3"
  },
  "language_info": {
   "codemirror_mode": {
    "name": "ipython",
    "version": 3
   },
   "file_extension": ".py",
   "mimetype": "text/x-python",
   "name": "python",
   "nbconvert_exporter": "python",
   "pygments_lexer": "ipython3",
   "version": "3.10.5"
  }
 },
 "nbformat": 4,
 "nbformat_minor": 5
}
